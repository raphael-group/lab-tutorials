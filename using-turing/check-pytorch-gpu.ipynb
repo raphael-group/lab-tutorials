{
 "cells": [
  {
   "cell_type": "code",
   "execution_count": 1,
   "id": "3d292afe-3c19-4e90-a059-35e0a9f80180",
   "metadata": {},
   "outputs": [
    {
     "data": {
      "text/plain": [
       "True"
      ]
     },
     "execution_count": 1,
     "metadata": {},
     "output_type": "execute_result"
    }
   ],
   "source": [
    "import torch\n",
    "torch.cuda.is_available()"
   ]
  },
  {
   "cell_type": "code",
   "execution_count": 2,
   "id": "81ec6f75-f4ca-45b5-a418-b331b6d86bf4",
   "metadata": {},
   "outputs": [
    {
     "data": {
      "text/plain": [
       "2"
      ]
     },
     "execution_count": 2,
     "metadata": {},
     "output_type": "execute_result"
    }
   ],
   "source": [
    "torch.cuda.device_count()"
   ]
  },
  {
   "cell_type": "markdown",
   "id": "9359d66d-efa5-47b2-a8f7-527b339fe433",
   "metadata": {},
   "source": [
    "# Go to Cong's notebook to learn how to get started with torch"
   ]
  }
 ],
 "metadata": {
  "kernelspec": {
   "display_name": "turing-jupyter-tutorial",
   "language": "python",
   "name": "turing-jupyter-tutorial"
  },
  "language_info": {
   "codemirror_mode": {
    "name": "ipython",
    "version": 3
   },
   "file_extension": ".py",
   "mimetype": "text/x-python",
   "name": "python",
   "nbconvert_exporter": "python",
   "pygments_lexer": "ipython3",
   "version": "3.11.4"
  }
 },
 "nbformat": 4,
 "nbformat_minor": 5
}
